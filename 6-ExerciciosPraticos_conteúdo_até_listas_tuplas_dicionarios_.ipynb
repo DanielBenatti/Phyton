{
  "nbformat": 4,
  "nbformat_minor": 0,
  "metadata": {
    "kernelspec": {
      "display_name": "Python 3",
      "language": "python",
      "name": "python3"
    },
    "language_info": {
      "codemirror_mode": {
        "name": "ipython",
        "version": 3
      },
      "file_extension": ".py",
      "mimetype": "text/x-python",
      "name": "python",
      "nbconvert_exporter": "python",
      "pygments_lexer": "ipython3",
      "version": "3.8.8"
    },
    "colab": {
      "provenance": [],
      "include_colab_link": true
    }
  },
  "cells": [
    {
      "cell_type": "markdown",
      "metadata": {
        "id": "view-in-github",
        "colab_type": "text"
      },
      "source": [
        "<a href=\"https://colab.research.google.com/github/DanielBenatti/Phyton/blob/main/6-ExerciciosPraticos_conte%C3%BAdo_at%C3%A9_listas_tuplas_dicionarios_.ipynb\" target=\"_parent\"><img src=\"https://colab.research.google.com/assets/colab-badge.svg\" alt=\"Open In Colab\"/></a>"
      ]
    },
    {
      "cell_type": "markdown",
      "metadata": {
        "id": "otAALMRAgVFs"
      },
      "source": [
        "# Exercícios, insira os valores abaixo em variáveis.\n",
        "\n",
        "Nome:\n",
        "\n",
        "Turma: Tarde ou Noite\n",
        "\n",
        "Curso que faz na ETEC:\n",
        "\n",
        "Período do Curso:\n",
        "\n"
      ]
    },
    {
      "cell_type": "markdown",
      "metadata": {
        "id": "mtO7KYI4gVGN"
      },
      "source": [
        "### Exercícios com todos os conteúdos aplicados até o momento."
      ]
    },
    {
      "cell_type": "code",
      "metadata": {
        "id": "sNDVkTvxqFeG"
      },
      "source": [
        "# Exercício 1 inserir os seus dados acima em variáveis\n",
        "nome = \"Daniel Benatti\"\n",
        "Turma = \"Manhã\"\n",
        "Curso = \"TI\""
      ],
      "execution_count": null,
      "outputs": []
    },
    {
      "cell_type": "code",
      "metadata": {
        "id": "9ghrfEWJxiTC",
        "colab": {
          "base_uri": "https://localhost:8080/",
          "height": 35
        },
        "outputId": "6ab54895-0e14-4ffa-8c0d-641b944da0b7"
      },
      "source": [
        "# Exercício 2 -Apos inserir dados acima usando o slicing (exemplo no notebook de manipulação de Strings), imprima na tela apenas seu sobrenome\n",
        "posicao_espaco = nome_invertido.find(\" \")\n",
        "sobrenome = nome_invertido[:posicao_espaco][::-1]\n",
        "sobrenome"
      ],
      "execution_count": null,
      "outputs": [
        {
          "output_type": "execute_result",
          "data": {
            "text/plain": [
              "'Benatti'"
            ],
            "application/vnd.google.colaboratory.intrinsic+json": {
              "type": "string"
            }
          },
          "metadata": {},
          "execution_count": 3
        }
      ]
    },
    {
      "cell_type": "code",
      "metadata": {
        "id": "pw8rY0r9yU9P",
        "colab": {
          "base_uri": "https://localhost:8080/",
          "height": 35
        },
        "outputId": "be8405ff-8d63-40c4-ec28-0a37d24eebca"
      },
      "source": [
        "# Exercício 3 -  imprima seu nome de trás pra frente\n",
        "nome_invertido = nome[::-1]\n",
        "nome_invertido"
      ],
      "execution_count": null,
      "outputs": [
        {
          "output_type": "execute_result",
          "data": {
            "text/plain": [
              "'ittaneB leinaD'"
            ],
            "application/vnd.google.colaboratory.intrinsic+json": {
              "type": "string"
            }
          },
          "metadata": {},
          "execution_count": 2
        }
      ]
    },
    {
      "cell_type": "code",
      "metadata": {
        "id": "Pa51fT2Pyd-P",
        "colab": {
          "base_uri": "https://localhost:8080/"
        },
        "outputId": "be092041-b0b8-4868-9198-7e739452e199"
      },
      "source": [
        "# Exercício 4 - pegue a frase abaixo, aplique o split para fazer uma quebra toda vez que encontrar uma \",\"\n",
        "frase = \"Python é a linguagem ideal para o primeiro contato com programação, além da sua sintaxe simples e muito poderosa, Python tem diversas aplicações como: desenvolvimento web, análise de dados, inteligência artificial e automatização de tarefas, neste curso você aprenderá a lógica de programação para conquistar fluência na linguagem, a comunidade Python é a que mais cresce, assim como sua demanda de profissionais no mercado.\"\n",
        "pedacos = frase.split(\",\")\n",
        "for pedaco in pedacos:\n",
        "    print(pedaco.strip())"
      ],
      "execution_count": null,
      "outputs": [
        {
          "output_type": "stream",
          "name": "stdout",
          "text": [
            "Python é a linguagem ideal para o primeiro contato com programação\n",
            "além da sua sintaxe simples e muito poderosa\n",
            "Python tem diversas aplicações como: desenvolvimento web\n",
            "análise de dados\n",
            "inteligência artificial e automatização de tarefas\n",
            "neste curso você aprenderá a lógica de programação para conquistar fluência na linguagem\n",
            "a comunidade Python é a que mais cresce\n",
            "assim como sua demanda de profissionais no mercado.\n"
          ]
        }
      ]
    },
    {
      "cell_type": "code",
      "metadata": {
        "id": "3zXkJzvOgVGQ",
        "colab": {
          "base_uri": "https://localhost:8080/"
        },
        "outputId": "2577274b-ef70-4f5f-f955-412de4ad575c"
      },
      "source": [
        "# Exercício 5 -Imprima na tela os números de 1 a 10. Use uma lista para armazenar os números.\n",
        "numeros = list(range(1, 11))\n",
        "for numero in numeros:\n",
        "    print(numero)"
      ],
      "execution_count": null,
      "outputs": [
        {
          "output_type": "stream",
          "name": "stdout",
          "text": [
            "1\n",
            "2\n",
            "3\n",
            "4\n",
            "5\n",
            "6\n",
            "7\n",
            "8\n",
            "9\n",
            "10\n"
          ]
        }
      ]
    },
    {
      "cell_type": "code",
      "metadata": {
        "id": "sLiKO51ogVGU",
        "colab": {
          "base_uri": "https://localhost:8080/"
        },
        "outputId": "ac1947b4-7dde-4aaa-8fe0-da2fd8c29480"
      },
      "source": [
        "# Exercício 6 - Crie uma lista de 5 objetos e imprima na tela\n",
        "objetos = [1, \"Maçã\", True, 3.14, [\"Python\", \"Programação\"]]\n",
        "objetos"
      ],
      "execution_count": null,
      "outputs": [
        {
          "output_type": "execute_result",
          "data": {
            "text/plain": [
              "[1, 'Maçã', True, 3.14, ['Python', 'Programação']]"
            ]
          },
          "metadata": {},
          "execution_count": 10
        }
      ]
    },
    {
      "cell_type": "code",
      "metadata": {
        "id": "4Udf3Y1SgVGW",
        "colab": {
          "base_uri": "https://localhost:8080/",
          "height": 35
        },
        "outputId": "9f9cf049-b19d-486c-9fb6-175b1a206624"
      },
      "source": [
        "# Exercício 7 - - Crie duas strings e concatene as duas em uma terceira string\n",
        "# Exercício 7 - - Crie duas strings e concatene as duas em uma terceira string\n",
        "string1 = \"Olá, \"\n",
        "string2 = \"mundo!\"\n",
        "string_concatenada = string1 + string2\n",
        "string_concatenada"
      ],
      "execution_count": null,
      "outputs": [
        {
          "output_type": "execute_result",
          "data": {
            "text/plain": [
              "'Olá, mundo!'"
            ],
            "application/vnd.google.colaboratory.intrinsic+json": {
              "type": "string"
            }
          },
          "metadata": {},
          "execution_count": 11
        }
      ]
    },
    {
      "cell_type": "code",
      "metadata": {
        "id": "eibOlpxBgVGZ",
        "colab": {
          "base_uri": "https://localhost:8080/"
        },
        "outputId": "ee27b5dd-bc05-4b59-8f07-06c93d8ffce7"
      },
      "source": [
        "# Exercício 8 - Crie uma tupla com os seguintes elementos: 1, 2, 2, 3, 4, 4, 4, 5 e depois utilize a função count do\n",
        "# objeto tupla para verificar quantas vezes o número 4 aparece na tupla\n",
        "tupla = (1, 2, 2, 3, 4, 4, 4, 5)\n",
        "quantidade_de_quatros = tupla.count(4)\n",
        "print(\"O número 4 aparece\", quantidade_de_quatros, \"vezes na tupla.\")"
      ],
      "execution_count": null,
      "outputs": [
        {
          "output_type": "stream",
          "name": "stdout",
          "text": [
            "O número 4 aparece 3 vezes na tupla.\n"
          ]
        }
      ]
    },
    {
      "cell_type": "code",
      "metadata": {
        "id": "N68z5JS9gVGe",
        "colab": {
          "base_uri": "https://localhost:8080/"
        },
        "outputId": "6be76b28-7f94-4f27-cdbc-4f748d2870b8"
      },
      "source": [
        "# Exercício 9 - Crie um dicionário vazio e imprima na tela\n",
        "dicionario_vazio = {}\n",
        "dicionario_vazio"
      ],
      "execution_count": null,
      "outputs": [
        {
          "output_type": "execute_result",
          "data": {
            "text/plain": [
              "{}"
            ]
          },
          "metadata": {},
          "execution_count": 13
        }
      ]
    },
    {
      "cell_type": "code",
      "metadata": {
        "id": "BNR0-SW-gVGg",
        "colab": {
          "base_uri": "https://localhost:8080/"
        },
        "outputId": "f41317d1-e304-48f9-dcb8-5776afb30f26"
      },
      "source": [
        "# Exercício 10 - Crie um dicionário com 3 chaves e 3 valores e imprima na tela\n",
        "dicionario = {\n",
        "    \"chave1\": \"valor1\",\n",
        "    \"chave2\": \"valor2\",\n",
        "    \"chave3\": \"valor3\"\n",
        "}\n",
        "dicionario"
      ],
      "execution_count": null,
      "outputs": [
        {
          "output_type": "execute_result",
          "data": {
            "text/plain": [
              "{'chave1': 'valor1', 'chave2': 'valor2', 'chave3': 'valor3'}"
            ]
          },
          "metadata": {},
          "execution_count": 14
        }
      ]
    },
    {
      "cell_type": "code",
      "metadata": {
        "id": "gXIHe2YegVGj",
        "colab": {
          "base_uri": "https://localhost:8080/"
        },
        "outputId": "363ccbe4-e5ce-4e5b-8048-1e38ddcaf446"
      },
      "source": [
        "# Exercício 11 - Adicione mais um elemento ao dicionário criado no exercício anterior e imprima na tela\n",
        "dicionario[\"chave4\"] = \"valor4\"\n",
        "dicionario"
      ],
      "execution_count": null,
      "outputs": [
        {
          "output_type": "execute_result",
          "data": {
            "text/plain": [
              "{'chave1': 'valor1',\n",
              " 'chave2': 'valor2',\n",
              " 'chave3': 'valor3',\n",
              " 'chave4': 'valor4'}"
            ]
          },
          "metadata": {},
          "execution_count": 16
        }
      ]
    },
    {
      "cell_type": "code",
      "metadata": {
        "id": "4BgEJNIegVGn",
        "colab": {
          "base_uri": "https://localhost:8080/"
        },
        "outputId": "367a8a2c-e203-465f-bbec-00adebc3ed66"
      },
      "source": [
        "# Exercício 12 - Crie um dicionário com 3 chaves e 3 valores. Um dos valores deve ser uma lista de 2 elementos numéricos.\n",
        "# Imprima o dicionário na tela.\n",
        "dicionario = {\n",
        "    \"chave1\": \"valor1\",\n",
        "    \"chave2\": 99,\n",
        "    \"chave3\": [9, 7]\n",
        "}\n",
        "dicionario"
      ],
      "execution_count": null,
      "outputs": [
        {
          "output_type": "execute_result",
          "data": {
            "text/plain": [
              "{'chave1': 'valor1', 'chave2': 99, 'chave3': [9, 7]}"
            ]
          },
          "metadata": {},
          "execution_count": 17
        }
      ]
    },
    {
      "cell_type": "code",
      "metadata": {
        "id": "5z1toDrtgVGp",
        "colab": {
          "base_uri": "https://localhost:8080/"
        },
        "outputId": "0f0510b8-feb2-4d36-c20e-4c6cb052867d"
      },
      "source": [
        "# Exercício 13 - Crie uma lista de 4 elementos. O primeiro elemento deve ser uma string,\n",
        "# o segundo uma tupla de 2 elementos, o terceiro um dcionário com 2 chaves e 2 valores e\n",
        "# o quarto elemento um valor do tipo float.\n",
        "# Imprima a lista na tela.\n",
        "lista = [\n",
        "    \"string\",\n",
        "    (1, 2),  # Tupla de 2 elementos\n",
        "    {\"chave1\": \"valor1\", \"chave2\": \"valor2\"},  # Dicionário com 2 chaves e 2 valores\n",
        "    3.14  # Valor do tipo float\n",
        "]\n",
        "lista\n"
      ],
      "execution_count": null,
      "outputs": [
        {
          "output_type": "execute_result",
          "data": {
            "text/plain": [
              "['string', (1, 2), {'chave1': 'valor1', 'chave2': 'valor2'}, 3.14]"
            ]
          },
          "metadata": {},
          "execution_count": 18
        }
      ]
    },
    {
      "cell_type": "code",
      "metadata": {
        "id": "OH0hchIXgVGw",
        "colab": {
          "base_uri": "https://localhost:8080/",
          "height": 35
        },
        "outputId": "eba456d6-0348-4ac5-df17-8ead0d49ab63"
      },
      "source": [
        "# Exercício 14 - Considere a string abaixo. Imprima na tela apenas os caracteres da posição 1 a 18.\n",
        "frase = 'Cientista de Dados é o profissional mais sexy do século XXI'\n",
        "(frase[1:19])"
      ],
      "execution_count": null,
      "outputs": [
        {
          "output_type": "execute_result",
          "data": {
            "text/plain": [
              "'ientista de Dados '"
            ],
            "application/vnd.google.colaboratory.intrinsic+json": {
              "type": "string"
            }
          },
          "metadata": {},
          "execution_count": 19
        }
      ]
    },
    {
      "cell_type": "markdown",
      "metadata": {
        "id": "XivMVqDbg8Jm"
      },
      "source": [
        "## APÓS TERMINAR OS EXERCÍCIOS COMPARTILHAR LINK COMIGO: profcintiapinho@gmail.com\n"
      ]
    },
    {
      "cell_type": "markdown",
      "metadata": {
        "id": "jKsgA0T3gVGy"
      },
      "source": [
        "# Fim"
      ]
    }
  ]
}